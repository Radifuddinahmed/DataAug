{
 "cells": [
  {
   "cell_type": "code",
   "execution_count": null,
   "id": "b3ca0bb4-e391-4d2d-8628-00dd81102d23",
   "metadata": {},
   "outputs": [],
   "source": [
    "import pandas as pd\n",
    "from sklearn.model_selection import StratifiedKFold\n",
    "from sklearn.linear_model import LinearRegression  # You can replace this with any regression model you prefer\n",
    "from sklearn.metrics import mean_absolute_error, mean_squared_error\n",
    "\n",
    "# Load your dataset into a pandas DataFrame (Replace 'your_dataset.csv' with the actual file path)\n",
    "data = pd.read_csv('your_dataset.csv')\n",
    "\n",
    "# Split the data into features (X) and target variable (y)\n",
    "X = data.drop('target_column', axis=1)  # Replace 'target_column' with the column name of the target variable\n",
    "y = data['target_column']\n",
    "\n",
    "# Create the regression model (You can use any other regression model instead of LinearRegression)\n",
    "regression_model = LinearRegression()\n",
    "\n",
    "# Set up the stratified k-fold cross-validation\n",
    "num_folds = 5  # You can adjust the number of folds as per your requirement\n",
    "stratified_kfold = StratifiedKFold(n_splits=num_folds, shuffle=True, random_state=42)\n",
    "\n",
    "# Initialize lists to store evaluation metrics for each fold\n",
    "mae_scores = []\n",
    "mse_scores = []\n",
    "\n",
    "# Perform stratified k-fold cross-validation\n",
    "for train_index, test_index in stratified_kfold.split(X, y):\n",
    "    X_train, X_test = X.iloc[train_index], X.iloc[test_index]\n",
    "    y_train, y_test = y.iloc[train_index], y.iloc[test_index]\n",
    "\n",
    "    # Fit the model on the training data\n",
    "    regression_model.fit(X_train, y_train)\n",
    "\n",
    "    # Make predictions on the test data\n",
    "    y_pred = regression_model.predict(X_test)\n",
    "\n",
    "    # Evaluate the model using mean absolute error and mean squared error\n",
    "    mae_scores.append(mean_absolute_error(y_test, y_pred))\n",
    "    mse_scores.append(mean_squared_error(y_test, y_pred))\n",
    "\n",
    "# Calculate the average metrics across all folds\n",
    "average_mae = sum(mae_scores) / len(mae_scores)\n",
    "average_mse = sum(mse_scores) / len(mse_scores)\n",
    "\n",
    "print(f\"Average MAE: {average_mae}\")\n",
    "print(f\"Average MSE: {average_mse}\")\n"
   ]
  }
 ],
 "metadata": {
  "kernelspec": {
   "display_name": "OLCF-CUDA11 (ipykernel)",
   "language": "python",
   "name": "python3"
  },
  "language_info": {
   "codemirror_mode": {
    "name": "ipython",
    "version": 3
   },
   "file_extension": ".py",
   "mimetype": "text/x-python",
   "name": "python",
   "nbconvert_exporter": "python",
   "pygments_lexer": "ipython3",
   "version": "3.11.4"
  }
 },
 "nbformat": 4,
 "nbformat_minor": 5
}

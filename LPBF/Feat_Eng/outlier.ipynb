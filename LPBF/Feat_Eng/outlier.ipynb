{
 "cells": [
  {
   "cell_type": "code",
   "execution_count": 65,
   "id": "3af7cf8c-d166-463d-b890-c351fc85805b",
   "metadata": {},
   "outputs": [],
   "source": [
    "import pandas as pd\n",
    "import numpy as np\n",
    "from scipy.stats import zscore\n",
    "import matplotlib.pyplot as plt\n",
    "import seaborn as sns\n",
    "\n",
    "\n"
   ]
  },
  {
   "cell_type": "code",
   "execution_count": 66,
   "id": "96ffc5ee-8c39-41f1-9a79-a8b95fa4da9d",
   "metadata": {},
   "outputs": [],
   "source": [
    "# Load the data from a CSV file\n",
    "#data = pd.read_csv('aksansh.csv')\n",
    "data = pd.read_csv('FSW_Dataset_v4_test.csv')\n",
    "# Assuming the target variable is named 'target' and the input features are in columns 'feature1', 'feature2', etc.\n",
    "\n",
    "# Extract the target variable and input features\n",
    "y = data['Ultimate Tensile Trength (MPa)']\n",
    "X = data.drop('Ultimate Tensile Trength (MPa)', axis=1)\n",
    "\n"
   ]
  },
  {
   "cell_type": "code",
   "execution_count": 67,
   "id": "99f8701f-f590-4aea-a5b7-ca4acd9928bb",
   "metadata": {},
   "outputs": [
    {
     "data": {
      "text/html": [
       "<div>\n",
       "<style scoped>\n",
       "    .dataframe tbody tr th:only-of-type {\n",
       "        vertical-align: middle;\n",
       "    }\n",
       "\n",
       "    .dataframe tbody tr th {\n",
       "        vertical-align: top;\n",
       "    }\n",
       "\n",
       "    .dataframe thead th {\n",
       "        text-align: right;\n",
       "    }\n",
       "</style>\n",
       "<table border=\"1\" class=\"dataframe\">\n",
       "  <thead>\n",
       "    <tr style=\"text-align: right;\">\n",
       "      <th></th>\n",
       "      <th>Tool Rotational Speed (RPM)</th>\n",
       "      <th>Translational Speed (mm/min)</th>\n",
       "      <th>Axial Force (KN)</th>\n",
       "      <th>Ultimate Tensile Trength (MPa)</th>\n",
       "    </tr>\n",
       "  </thead>\n",
       "  <tbody>\n",
       "    <tr>\n",
       "      <th>0</th>\n",
       "      <td>1400.0</td>\n",
       "      <td>42.50</td>\n",
       "      <td>6.0</td>\n",
       "      <td>77.83</td>\n",
       "    </tr>\n",
       "    <tr>\n",
       "      <th>1</th>\n",
       "      <td>1250.0</td>\n",
       "      <td>48.75</td>\n",
       "      <td>6.0</td>\n",
       "      <td>82.50</td>\n",
       "    </tr>\n",
       "    <tr>\n",
       "      <th>2</th>\n",
       "      <td>1250.0</td>\n",
       "      <td>36.25</td>\n",
       "      <td>6.0</td>\n",
       "      <td>99.16</td>\n",
       "    </tr>\n",
       "    <tr>\n",
       "      <th>3</th>\n",
       "      <td>1250.0</td>\n",
       "      <td>48.75</td>\n",
       "      <td>6.0</td>\n",
       "      <td>102.16</td>\n",
       "    </tr>\n",
       "    <tr>\n",
       "      <th>4</th>\n",
       "      <td>1100.0</td>\n",
       "      <td>42.50</td>\n",
       "      <td>6.0</td>\n",
       "      <td>103.30</td>\n",
       "    </tr>\n",
       "  </tbody>\n",
       "</table>\n",
       "</div>"
      ],
      "text/plain": [
       "   Tool Rotational Speed (RPM)  Translational Speed (mm/min)  \\\n",
       "0                       1400.0                         42.50   \n",
       "1                       1250.0                         48.75   \n",
       "2                       1250.0                         36.25   \n",
       "3                       1250.0                         48.75   \n",
       "4                       1100.0                         42.50   \n",
       "\n",
       "   Axial Force (KN)  Ultimate Tensile Trength (MPa)  \n",
       "0               6.0                           77.83  \n",
       "1               6.0                           82.50  \n",
       "2               6.0                           99.16  \n",
       "3               6.0                          102.16  \n",
       "4               6.0                          103.30  "
      ]
     },
     "execution_count": 67,
     "metadata": {},
     "output_type": "execute_result"
    }
   ],
   "source": [
    "data.head()"
   ]
  },
  {
   "cell_type": "code",
   "execution_count": 68,
   "id": "f632ecd1-be1e-4c29-bc96-02095309b5ad",
   "metadata": {},
   "outputs": [
    {
     "data": {
      "text/plain": [
       "0     77.83\n",
       "1     82.50\n",
       "2     99.16\n",
       "3    102.16\n",
       "4    103.30\n",
       "Name: Ultimate Tensile Trength (MPa), dtype: float64"
      ]
     },
     "execution_count": 68,
     "metadata": {},
     "output_type": "execute_result"
    }
   ],
   "source": [
    "y.head()"
   ]
  },
  {
   "cell_type": "code",
   "execution_count": 69,
   "id": "52475a12-6230-424f-8468-c2396f6067c8",
   "metadata": {},
   "outputs": [
    {
     "data": {
      "text/html": [
       "<div>\n",
       "<style scoped>\n",
       "    .dataframe tbody tr th:only-of-type {\n",
       "        vertical-align: middle;\n",
       "    }\n",
       "\n",
       "    .dataframe tbody tr th {\n",
       "        vertical-align: top;\n",
       "    }\n",
       "\n",
       "    .dataframe thead th {\n",
       "        text-align: right;\n",
       "    }\n",
       "</style>\n",
       "<table border=\"1\" class=\"dataframe\">\n",
       "  <thead>\n",
       "    <tr style=\"text-align: right;\">\n",
       "      <th></th>\n",
       "      <th>Tool Rotational Speed (RPM)</th>\n",
       "      <th>Translational Speed (mm/min)</th>\n",
       "      <th>Axial Force (KN)</th>\n",
       "    </tr>\n",
       "  </thead>\n",
       "  <tbody>\n",
       "    <tr>\n",
       "      <th>0</th>\n",
       "      <td>1400.0</td>\n",
       "      <td>42.50</td>\n",
       "      <td>6.0</td>\n",
       "    </tr>\n",
       "    <tr>\n",
       "      <th>1</th>\n",
       "      <td>1250.0</td>\n",
       "      <td>48.75</td>\n",
       "      <td>6.0</td>\n",
       "    </tr>\n",
       "    <tr>\n",
       "      <th>2</th>\n",
       "      <td>1250.0</td>\n",
       "      <td>36.25</td>\n",
       "      <td>6.0</td>\n",
       "    </tr>\n",
       "    <tr>\n",
       "      <th>3</th>\n",
       "      <td>1250.0</td>\n",
       "      <td>48.75</td>\n",
       "      <td>6.0</td>\n",
       "    </tr>\n",
       "    <tr>\n",
       "      <th>4</th>\n",
       "      <td>1100.0</td>\n",
       "      <td>42.50</td>\n",
       "      <td>6.0</td>\n",
       "    </tr>\n",
       "  </tbody>\n",
       "</table>\n",
       "</div>"
      ],
      "text/plain": [
       "   Tool Rotational Speed (RPM)  Translational Speed (mm/min)  Axial Force (KN)\n",
       "0                       1400.0                         42.50               6.0\n",
       "1                       1250.0                         48.75               6.0\n",
       "2                       1250.0                         36.25               6.0\n",
       "3                       1250.0                         48.75               6.0\n",
       "4                       1100.0                         42.50               6.0"
      ]
     },
     "execution_count": 69,
     "metadata": {},
     "output_type": "execute_result"
    }
   ],
   "source": [
    "X.head()"
   ]
  },
  {
   "cell_type": "code",
   "execution_count": 42,
   "id": "665621c3-c99c-41fa-a9ea-d44eb8743985",
   "metadata": {},
   "outputs": [],
   "source": [
    "X = X.rename(columns={'Tool Rotational Speed (RPM)': 'x1', 'Translational Speed (mm/min)': 'x2', 'Axial Force (KN)': 'x3'})"
   ]
  },
  {
   "cell_type": "code",
   "execution_count": 70,
   "id": "70e8931c-c500-4ba5-9d38-17628cd4a945",
   "metadata": {},
   "outputs": [
    {
     "data": {
      "text/html": [
       "<div>\n",
       "<style scoped>\n",
       "    .dataframe tbody tr th:only-of-type {\n",
       "        vertical-align: middle;\n",
       "    }\n",
       "\n",
       "    .dataframe tbody tr th {\n",
       "        vertical-align: top;\n",
       "    }\n",
       "\n",
       "    .dataframe thead th {\n",
       "        text-align: right;\n",
       "    }\n",
       "</style>\n",
       "<table border=\"1\" class=\"dataframe\">\n",
       "  <thead>\n",
       "    <tr style=\"text-align: right;\">\n",
       "      <th></th>\n",
       "      <th>Tool Rotational Speed (RPM)</th>\n",
       "      <th>Translational Speed (mm/min)</th>\n",
       "      <th>Axial Force (KN)</th>\n",
       "    </tr>\n",
       "  </thead>\n",
       "  <tbody>\n",
       "    <tr>\n",
       "      <th>0</th>\n",
       "      <td>1400.0</td>\n",
       "      <td>42.50</td>\n",
       "      <td>6.0</td>\n",
       "    </tr>\n",
       "    <tr>\n",
       "      <th>1</th>\n",
       "      <td>1250.0</td>\n",
       "      <td>48.75</td>\n",
       "      <td>6.0</td>\n",
       "    </tr>\n",
       "    <tr>\n",
       "      <th>2</th>\n",
       "      <td>1250.0</td>\n",
       "      <td>36.25</td>\n",
       "      <td>6.0</td>\n",
       "    </tr>\n",
       "    <tr>\n",
       "      <th>3</th>\n",
       "      <td>1250.0</td>\n",
       "      <td>48.75</td>\n",
       "      <td>6.0</td>\n",
       "    </tr>\n",
       "    <tr>\n",
       "      <th>4</th>\n",
       "      <td>1100.0</td>\n",
       "      <td>42.50</td>\n",
       "      <td>6.0</td>\n",
       "    </tr>\n",
       "  </tbody>\n",
       "</table>\n",
       "</div>"
      ],
      "text/plain": [
       "   Tool Rotational Speed (RPM)  Translational Speed (mm/min)  Axial Force (KN)\n",
       "0                       1400.0                         42.50               6.0\n",
       "1                       1250.0                         48.75               6.0\n",
       "2                       1250.0                         36.25               6.0\n",
       "3                       1250.0                         48.75               6.0\n",
       "4                       1100.0                         42.50               6.0"
      ]
     },
     "execution_count": 70,
     "metadata": {},
     "output_type": "execute_result"
    }
   ],
   "source": [
    "X.head()"
   ]
  },
  {
   "cell_type": "code",
   "execution_count": 71,
   "id": "e3277d8b-262e-4153-b4ab-e30c1b4cbaf9",
   "metadata": {},
   "outputs": [
    {
     "data": {
      "image/png": "[encoded data removed]",
      "text/plain": [
       "<Figure size 1000x600 with 1 Axes>"
      ]
     },
     "metadata": {},
     "output_type": "display_data"
    }
   ],
   "source": [
    "# Create a box plot for each feature\n",
    "plt.figure(figsize=(10, 6))  # Adjust the figure size as needed\n",
    "X.boxplot()\n",
    "\n",
    "# Add a title to the plot\n",
    "plt.title('Box Plot of Input Features')\n",
    "\n",
    "# Show the plot\n",
    "plt.show()\n",
    "\n",
    "\n"
   ]
  },
  {
   "cell_type": "code",
   "execution_count": 81,
   "id": "92f83cec-0eb3-4860-999f-4eec6f46ca35",
   "metadata": {
    "tags": []
   },
   "outputs": [
    {
     "data": {
      "image/png": "[encoded data removed]",
      "text/plain": [
       "<Figure size 640x480 with 1 Axes>"
      ]
     },
     "metadata": {},
     "output_type": "display_data"
    },
    {
     "data": {
      "image/png": "[encoded data removed]",
      "text/plain": [
       "<Figure size 640x480 with 1 Axes>"
      ]
     },
     "metadata": {},
     "output_type": "display_data"
    },
    {
     "data": {
      "image/png": "[encoded data removed]",
      "text/plain": [
       "<Figure size 640x480 with 1 Axes>"
      ]
     },
     "metadata": {},
     "output_type": "display_data"
    },
    {
     "data": {
      "text/plain": [
       "<Figure size 640x480 with 0 Axes>"
      ]
     },
     "metadata": {},
     "output_type": "display_data"
    }
   ],
   "source": [
    "# Find outlier indices for each feature\n",
    "outlier_indices = []\n",
    "outlier_values = []\n",
    "k=1\n",
    "for feature in X.columns:\n",
    "    # Get the values for the current feature\n",
    "    feature_values = X[feature].values\n",
    "    \n",
    "    # Create a box plot for the current feature\n",
    "    plt.boxplot(feature_values)\n",
    "    #plt.xlabel('X-axis Title')\n",
    "    plt.ylabel(feature)\n",
    "    plt.savefig(f'boxplot_{k}.png')\n",
    "    k=k+1\n",
    "    plt.show()\n",
    "    # Find the outliers\n",
    "    outliers = plt.boxplot(feature_values)['fliers'][0].get_data()[1]\n",
    "    #print(outliers)\n",
    "    # Append the outlier indices to the list\n",
    "    outlier_indices.append([i for i, val in enumerate(feature_values) if val in outliers])\n",
    "    outlier_values.append(outliers)\n",
    "    \n",
    "    # Clear the current plot\n",
    "    plt.clf()"
   ]
  },
  {
   "cell_type": "code",
   "execution_count": 82,
   "id": "10f506e9-3362-4f85-b981-0846d8296f71",
   "metadata": {},
   "outputs": [
    {
     "name": "stdout",
     "output_type": "stream",
     "text": [
      "Outliers for Tool Rotational Speed (RPM): [] [0] [] \n",
      "Outliers for Translational Speed (mm/min): [206, 207, 208, 209, 210, 211, 212, 213, 214, 215, 216, 217, 218, 219, 220, 221, 222] [1] [136.438489  138.5445798 139.6423798 139.812788  140.6506718 142.7567627\n",
      " 144.8628536 148.6359164 148.7456964 149.0750364 153.0676582 153.2872182\n",
      " 153.3969982 154.991006  155.3933091 157.389621  157.499401 ] \n",
      "Outliers for Axial Force (KN): [] [2] [] \n"
     ]
    }
   ],
   "source": [
    "# Print the outlier indices for each feature\n",
    "for i, feature in enumerate(X.columns):\n",
    "    print(f\"Outliers for {feature}: {outlier_indices[i]} [{i}] {outlier_values[i]} \")"
   ]
  },
  {
   "cell_type": "code",
   "execution_count": 56,
   "id": "9e2f5986-707d-45ac-a97f-28e19843ea9e",
   "metadata": {},
   "outputs": [
    {
     "data": {
      "text/plain": [
       "(329, 3)"
      ]
     },
     "execution_count": 56,
     "metadata": {},
     "output_type": "execute_result"
    }
   ],
   "source": [
    "X.shape"
   ]
  },
  {
   "cell_type": "code",
   "execution_count": 57,
   "id": "fd35b8a9-6cd1-4913-ae05-81f390e1c195",
   "metadata": {},
   "outputs": [
    {
     "data": {
      "text/plain": [
       "(329, 4)"
      ]
     },
     "execution_count": 57,
     "metadata": {},
     "output_type": "execute_result"
    }
   ],
   "source": [
    "data.shape"
   ]
  },
  {
   "cell_type": "code",
   "execution_count": 58,
   "id": "71da3571-9d8a-4d89-8444-316912f0e37e",
   "metadata": {},
   "outputs": [
    {
     "name": "stdout",
     "output_type": "stream",
     "text": [
      "       x1     x2   x3\n",
      "0  1400.0  42.50  6.0\n",
      "1  1250.0  48.75  6.0\n",
      "2  1250.0  36.25  6.0\n",
      "3  1250.0  48.75  6.0\n",
      "4  1100.0  42.50  6.0\n",
      "(312, 3)\n"
     ]
    }
   ],
   "source": [
    "\n",
    "X_new = X.drop(outlier_indices[1])\n",
    "print(X_new.head())\n",
    "print(X_new.shape)"
   ]
  },
  {
   "cell_type": "code",
   "execution_count": 60,
   "id": "507622c2-0de9-4726-8619-062d87381ac1",
   "metadata": {},
   "outputs": [
    {
     "data": {
      "text/html": [
       "<div>\n",
       "<style scoped>\n",
       "    .dataframe tbody tr th:only-of-type {\n",
       "        vertical-align: middle;\n",
       "    }\n",
       "\n",
       "    .dataframe tbody tr th {\n",
       "        vertical-align: top;\n",
       "    }\n",
       "\n",
       "    .dataframe thead th {\n",
       "        text-align: right;\n",
       "    }\n",
       "</style>\n",
       "<table border=\"1\" class=\"dataframe\">\n",
       "  <thead>\n",
       "    <tr style=\"text-align: right;\">\n",
       "      <th></th>\n",
       "      <th>Tool Rotational Speed (RPM)</th>\n",
       "      <th>Translational Speed (mm/min)</th>\n",
       "      <th>Axial Force (KN)</th>\n",
       "      <th>Ultimate Tensile Trength (MPa)</th>\n",
       "    </tr>\n",
       "  </thead>\n",
       "  <tbody>\n",
       "    <tr>\n",
       "      <th>0</th>\n",
       "      <td>1400.0</td>\n",
       "      <td>42.50</td>\n",
       "      <td>6.0</td>\n",
       "      <td>77.83</td>\n",
       "    </tr>\n",
       "    <tr>\n",
       "      <th>1</th>\n",
       "      <td>1250.0</td>\n",
       "      <td>48.75</td>\n",
       "      <td>6.0</td>\n",
       "      <td>82.50</td>\n",
       "    </tr>\n",
       "    <tr>\n",
       "      <th>2</th>\n",
       "      <td>1250.0</td>\n",
       "      <td>36.25</td>\n",
       "      <td>6.0</td>\n",
       "      <td>99.16</td>\n",
       "    </tr>\n",
       "    <tr>\n",
       "      <th>3</th>\n",
       "      <td>1250.0</td>\n",
       "      <td>48.75</td>\n",
       "      <td>6.0</td>\n",
       "      <td>102.16</td>\n",
       "    </tr>\n",
       "    <tr>\n",
       "      <th>4</th>\n",
       "      <td>1100.0</td>\n",
       "      <td>42.50</td>\n",
       "      <td>6.0</td>\n",
       "      <td>103.30</td>\n",
       "    </tr>\n",
       "  </tbody>\n",
       "</table>\n",
       "</div>"
      ],
      "text/plain": [
       "   Tool Rotational Speed (RPM)  Translational Speed (mm/min)  \\\n",
       "0                       1400.0                         42.50   \n",
       "1                       1250.0                         48.75   \n",
       "2                       1250.0                         36.25   \n",
       "3                       1250.0                         48.75   \n",
       "4                       1100.0                         42.50   \n",
       "\n",
       "   Axial Force (KN)  Ultimate Tensile Trength (MPa)  \n",
       "0               6.0                           77.83  \n",
       "1               6.0                           82.50  \n",
       "2               6.0                           99.16  \n",
       "3               6.0                          102.16  \n",
       "4               6.0                          103.30  "
      ]
     },
     "execution_count": 60,
     "metadata": {},
     "output_type": "execute_result"
    }
   ],
   "source": [
    "data_new = data.drop(outlier_indices[1])\n",
    "data_new.head()\n"
   ]
  },
  {
   "cell_type": "code",
   "execution_count": 61,
   "id": "b579652a-fbdb-416e-943a-ecbae3c3b48d",
   "metadata": {},
   "outputs": [
    {
     "name": "stdout",
     "output_type": "stream",
     "text": [
      "(312, 4)\n"
     ]
    }
   ],
   "source": [
    "print(data_new.shape)"
   ]
  },
  {
   "cell_type": "code",
   "execution_count": 62,
   "id": "833cf991-089f-4f31-97a3-d8c8e61831fe",
   "metadata": {},
   "outputs": [],
   "source": [
    "# Save the DataFrame to a CSV file\n",
    "data_new.to_csv('filtered_dataset_no_outlier.csv', index=False)"
   ]
  },
  {
   "cell_type": "code",
   "execution_count": 14,
   "id": "1a0355e2-5ce4-44f3-a0e7-0853759ee87b",
   "metadata": {},
   "outputs": [
    {
     "name": "stdout",
     "output_type": "stream",
     "text": [
      "    Tool Rotational Speed (RPM)  Translational Speed (mm/min)  \\\n",
      "0                      3.387053                      0.293882   \n",
      "1                     -0.567534                     -0.161673   \n",
      "2                     -0.567534                     -0.161673   \n",
      "3                     -1.358452                      0.977213   \n",
      "4                      0.223383                      0.977213   \n",
      "..                          ...                           ...   \n",
      "80                     1.014300                     -1.967566   \n",
      "81                     1.014300                      1.643841   \n",
      "82                     1.014300                     -0.161673   \n",
      "83                     1.014300                     -0.161673   \n",
      "84                     1.014300                     -0.161673   \n",
      "\n",
      "    Axial Force (KN)  \n",
      "0          -3.172531  \n",
      "1           0.632292  \n",
      "2           0.632292  \n",
      "3          -0.751280  \n",
      "4          -0.751280  \n",
      "..               ...  \n",
      "80          0.632292  \n",
      "81          0.632292  \n",
      "82         -1.014158  \n",
      "83          2.271825  \n",
      "84          0.632292  \n",
      "\n",
      "[85 rows x 3 columns]\n"
     ]
    }
   ],
   "source": [
    "# Calculate the Z-scores for each feature\n",
    "z_scores = zscore(X)\n",
    "\n",
    "print(z_scores)"
   ]
  },
  {
   "cell_type": "code",
   "execution_count": null,
   "id": "8a8845f0-e97c-4832-9e05-9a7854c14fcc",
   "metadata": {},
   "outputs": [],
   "source": [
    "# Define a threshold for outlier detection (e.g., Z-score > 3)\n",
    "threshold = 3\n",
    "\n",
    "# Find outliers based on the Z-scores\n",
    "outlier_indices = np.where(np.abs(z_scores) > threshold)[0]\n",
    "\n",
    "# Print the indices of outliers\n",
    "print(\"Outlier indices:\", outlier_indices)"
   ]
  }
 ],
 "metadata": {
  "kernelspec": {
   "display_name": "OLCF-base (ipykernel)",
   "language": "python",
   "name": "python3"
  },
  "language_info": {
   "codemirror_mode": {
    "name": "ipython",
    "version": 3
   },
   "file_extension": ".py",
   "mimetype": "text/x-python",
   "name": "python",
   "nbconvert_exporter": "python",
   "pygments_lexer": "ipython3",
   "version": "3.8.10"
  }
 },
 "nbformat": 4,
 "nbformat_minor": 5
}

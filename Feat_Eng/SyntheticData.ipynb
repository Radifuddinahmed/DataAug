{
 "cells": [
  {
   "cell_type": "code",
   "execution_count": 9,
   "id": "b8a73874-eae2-4ab4-aefe-0ed9c7cc6024",
   "metadata": {},
   "outputs": [],
   "source": [
    "import pandas as pd\n",
    "import numpy as np\n",
    "from scipy.stats import zscore\n",
    "import matplotlib.pyplot as plt\n",
    "import seaborn as sns\n",
    "\n",
    "\n",
    "import pandas as pd\n",
    "from sklearn.model_selection import train_test_split\n",
    "from sklearn.linear_model import LinearRegression\n",
    "from sklearn.tree import DecisionTreeRegressor\n",
    "from sklearn.ensemble import RandomForestRegressor\n",
    "from sklearn.metrics import mean_squared_error, r2_score\n",
    "from sklearn.metrics import mean_absolute_error"
   ]
  },
  {
   "cell_type": "code",
   "execution_count": 19,
   "id": "ce569f52-4a61-4890-969c-42e212f472f5",
   "metadata": {},
   "outputs": [
    {
     "name": "stdout",
     "output_type": "stream",
     "text": [
      "Linear Regression MAE: 36.54672163456972\n",
      "Decision Tree MAE: 7.881331086501375\n",
      "Random Forest MAE: 8.674881668213878\n",
      "Linear Regression MSE: 2980.0287010604516\n",
      "Decision Tree MSE: 532.5148855654331\n",
      "Random Forest MSE: 461.5325134569963\n",
      "Linear Regression R^2 Score: 0.14175248055836398\n",
      "Decision Tree R^2 Score: 0.846635846346163\n",
      "Random Forest R^2 Score: 0.8670787517331044\n"
     ]
    }
   ],
   "source": [
    "# Load the data from a CSV file\n",
    "#data = pd.read_csv('aksansh.csv')\n",
    "df_train = pd.read_csv('FSW_Dataset_v4_test.csv')\n",
    "#df_train = pd.read_csv('filtered_dataset_no_outlier.csv')\n",
    "# Assuming the target variable is named 'target' and the input features are in columns 'feature1', 'feature2', etc.\n",
    "\n",
    "# Extract the target variable and input features\n",
    "y = df_train['Ultimate Tensile Trength (MPa)']\n",
    "X = df_train.drop('Ultimate Tensile Trength (MPa)', axis=1)\n",
    "\n",
    "# Split the data into training and testing sets\n",
    "X_train, X_test, y_train, y_test = train_test_split(X, y, test_size=0.2, random_state=42)\n",
    "\n",
    "# Initialize the regression models\n",
    "linear_reg = LinearRegression()\n",
    "decision_tree_reg = DecisionTreeRegressor()\n",
    "random_forest_reg = RandomForestRegressor()\n",
    "\n",
    "# Fit the models on the training data\n",
    "linear_reg.fit(X_train, y_train)\n",
    "decision_tree_reg.fit(X_train, y_train)\n",
    "random_forest_reg.fit(X_train, y_train)\n",
    "\n",
    "# Make predictions on the test data\n",
    "linear_reg_pred = linear_reg.predict(X_test)\n",
    "decision_tree_pred = decision_tree_reg.predict(X_test)\n",
    "random_forest_pred = random_forest_reg.predict(X_test)\n",
    "\n",
    "# Evaluate the performance of the models\n",
    "#Calculate MAE\n",
    "linear_reg_mae = mean_absolute_error(y_test, linear_reg_pred)\n",
    "decision_tree_mae = mean_absolute_error(y_test, decision_tree_pred)\n",
    "random_forest_mae = mean_absolute_error(y_test, random_forest_pred)\n",
    "\n",
    "\n",
    "\n",
    "linear_reg_mse = mean_squared_error(y_test, linear_reg_pred)\n",
    "decision_tree_mse = mean_squared_error(y_test, decision_tree_pred)\n",
    "random_forest_mse = mean_squared_error(y_test, random_forest_pred)\n",
    "\n",
    "linear_reg_r2 = r2_score(y_test, linear_reg_pred)\n",
    "decision_tree_r2 = r2_score(y_test, decision_tree_pred)\n",
    "random_forest_r2 = r2_score(y_test, random_forest_pred)\n",
    "\n",
    "# Print the performance metrics\n",
    "print(\"Linear Regression MAE:\", linear_reg_mae)\n",
    "print(\"Decision Tree MAE:\", decision_tree_mae)\n",
    "print(\"Random Forest MAE:\", random_forest_mae)\n",
    "\n",
    "\n",
    "\n",
    "\n",
    "print(\"Linear Regression MSE:\", linear_reg_mse)\n",
    "print(\"Decision Tree MSE:\", decision_tree_mse)\n",
    "print(\"Random Forest MSE:\", random_forest_mse)\n",
    "\n",
    "print(\"Linear Regression R^2 Score:\", linear_reg_r2)\n",
    "print(\"Decision Tree R^2 Score:\", decision_tree_r2)\n",
    "print(\"Random Forest R^2 Score:\", random_forest_r2)"
   ]
  },
  {
   "cell_type": "code",
   "execution_count": 20,
   "id": "b91a9ea0-eb1f-46e6-bfee-e45bc042bb67",
   "metadata": {},
   "outputs": [
    {
     "name": "stdout",
     "output_type": "stream",
     "text": [
      "Linear Regression MAE: 33.259212277066055\n",
      "Decision Tree MAE: 8.562723476190477\n",
      "Random Forest MAE: 7.832304167497686\n",
      "Linear Regression MSE: 2241.889673536964\n",
      "Decision Tree MSE: 515.0231034665466\n",
      "Random Forest MSE: 230.59903000156808\n",
      "Linear Regression R^2 Score: 0.11159876740359631\n",
      "Decision Tree R^2 Score: 0.7959100461828497\n",
      "Random Forest R^2 Score: 0.9086197394514426\n"
     ]
    }
   ],
   "source": [
    "# Load the data from a CSV file\n",
    "#data = pd.read_csv('aksansh.csv')\n",
    "#df_train = pd.read_csv('FSW_Dataset_v4_test.csv')\n",
    "df_train = pd.read_csv('filtered_dataset_no_outlier.csv')\n",
    "# Assuming the target variable is named 'target' and the input features are in columns 'feature1', 'feature2', etc.\n",
    "\n",
    "# Extract the target variable and input features\n",
    "y = df_train['Ultimate Tensile Trength (MPa)']\n",
    "X = df_train.drop('Ultimate Tensile Trength (MPa)', axis=1)\n",
    "\n",
    "# Load the CSV file into a pandas DataFrame\n",
    "#data = pd.read_csv('your_data.csv')\n",
    "\n",
    "# Split the data into features and target variable\n",
    "#X = data.drop('target_variable_column', axis=1)  # Specify the column name of the target variable\n",
    "#y = data['target_variable_column']\n",
    "\n",
    "# Split the data into training and testing sets\n",
    "X_train, X_test, y_train, y_test = train_test_split(X, y, test_size=0.2, random_state=42)\n",
    "\n",
    "# Initialize the regression models\n",
    "linear_reg = LinearRegression()\n",
    "decision_tree_reg = DecisionTreeRegressor()\n",
    "random_forest_reg = RandomForestRegressor()\n",
    "\n",
    "# Fit the models on the training data\n",
    "linear_reg.fit(X_train, y_train)\n",
    "decision_tree_reg.fit(X_train, y_train)\n",
    "random_forest_reg.fit(X_train, y_train)\n",
    "\n",
    "# Make predictions on the test data\n",
    "linear_reg_pred = linear_reg.predict(X_test)\n",
    "decision_tree_pred = decision_tree_reg.predict(X_test)\n",
    "random_forest_pred = random_forest_reg.predict(X_test)\n",
    "\n",
    "# Evaluate the performance of the models\n",
    "#Calculate MAE\n",
    "linear_reg_mae = mean_absolute_error(y_test, linear_reg_pred)\n",
    "decision_tree_mae = mean_absolute_error(y_test, decision_tree_pred)\n",
    "random_forest_mae = mean_absolute_error(y_test, random_forest_pred)\n",
    "\n",
    "\n",
    "\n",
    "linear_reg_mse = mean_squared_error(y_test, linear_reg_pred)\n",
    "decision_tree_mse = mean_squared_error(y_test, decision_tree_pred)\n",
    "random_forest_mse = mean_squared_error(y_test, random_forest_pred)\n",
    "\n",
    "linear_reg_r2 = r2_score(y_test, linear_reg_pred)\n",
    "decision_tree_r2 = r2_score(y_test, decision_tree_pred)\n",
    "random_forest_r2 = r2_score(y_test, random_forest_pred)\n",
    "\n",
    "# Print the performance metrics\n",
    "print(\"Linear Regression MAE:\", linear_reg_mae)\n",
    "print(\"Decision Tree MAE:\", decision_tree_mae)\n",
    "print(\"Random Forest MAE:\", random_forest_mae)\n",
    "\n",
    "\n",
    "\n",
    "print(\"Linear Regression MSE:\", linear_reg_mse)\n",
    "print(\"Decision Tree MSE:\", decision_tree_mse)\n",
    "print(\"Random Forest MSE:\", random_forest_mse)\n",
    "\n",
    "print(\"Linear Regression R^2 Score:\", linear_reg_r2)\n",
    "print(\"Decision Tree R^2 Score:\", decision_tree_r2)\n",
    "print(\"Random Forest R^2 Score:\", random_forest_r2)\n"
   ]
  },
  {
   "cell_type": "code",
   "execution_count": 12,
   "id": "1ba24834-f7be-4e18-90e4-db9e4f5658b4",
   "metadata": {},
   "outputs": [
    {
     "data": {
      "text/plain": [
       "<bound method NDFrame.head of      Tool Rotational Speed (RPM)  Translational Speed (mm/min)  \\\n",
       "0                    1400.000000                     42.500000   \n",
       "1                    1250.000000                     48.750000   \n",
       "2                    1250.000000                     36.250000   \n",
       "3                    1250.000000                     48.750000   \n",
       "4                    1100.000000                     42.500000   \n",
       "..                           ...                           ...   \n",
       "457                  2051.232674                     94.377819   \n",
       "458                  1065.406206                     26.491373   \n",
       "459                  1416.242839                     37.915128   \n",
       "460                  1072.688470                     33.400041   \n",
       "461                  1606.846935                     94.814767   \n",
       "\n",
       "     Axial Force (KN)  Ultimate Tensile Trength (MPa)  \n",
       "0            6.000000                       77.830000  \n",
       "1            6.000000                       82.500000  \n",
       "2            6.000000                       99.160000  \n",
       "3            6.000000                      102.160000  \n",
       "4            6.000000                      103.300000  \n",
       "..                ...                             ...  \n",
       "457          3.033142                      114.819210  \n",
       "458          3.951553                      250.168372  \n",
       "459          2.735174                      281.709828  \n",
       "460          1.121873                      204.964599  \n",
       "461          1.911042                      114.888149  \n",
       "\n",
       "[462 rows x 4 columns]>"
      ]
     },
     "execution_count": 12,
     "metadata": {},
     "output_type": "execute_result"
    }
   ],
   "source": [
    "\n",
    "# Assuming you have your original training data in a DataFrame named 'df_train'\n",
    "\n",
    "# Define the number of synthetic data points to generate\n",
    "num_synthetic_points = 150\n",
    "#num_synthetic_points = 1500\n",
    "\n",
    "# Calculate the statistics of the original training data\n",
    "mean = df_train.mean()\n",
    "std = df_train.std()\n",
    "\n",
    "# Generate synthetic data by sampling from a normal distribution\n",
    "synthetic_data = pd.DataFrame()\n",
    "for column in df_train.columns:\n",
    "    synthetic_data[column] = np.random.normal(loc=mean[column], scale=std[column], size=num_synthetic_points)\n",
    "\n",
    "# Concatenate the synthetic data with the original training data\n",
    "df_train_synthetic = pd.concat([df_train, synthetic_data], ignore_index=True)\n",
    "df_train_synthetic.head"
   ]
  },
  {
   "cell_type": "code",
   "execution_count": 13,
   "id": "011a691e-ea17-4fde-8fba-d7b569b71cf6",
   "metadata": {},
   "outputs": [
    {
     "data": {
      "text/plain": [
       "(462, 4)"
      ]
     },
     "execution_count": 13,
     "metadata": {},
     "output_type": "execute_result"
    }
   ],
   "source": [
    "df_train_synthetic.shape"
   ]
  },
  {
   "cell_type": "code",
   "execution_count": 14,
   "id": "47ee3bb1-21fe-436d-a49c-b72f7a5b58f3",
   "metadata": {},
   "outputs": [],
   "source": [
    "# Save the DataFrame to a CSV file\n",
    "df_train_synthetic.to_csv('increased_sample_150_dataset.csv', index=False)\n",
    "#df_train_synthetic.to_csv('increased_sample_1500_dataset.csv', index=False)"
   ]
  },
  {
   "cell_type": "code",
   "execution_count": null,
   "id": "007b6a3a-83ea-4c8e-87e3-f5fc0bcb722b",
   "metadata": {},
   "outputs": [],
   "source": []
  }
 ],
 "metadata": {
  "kernelspec": {
   "display_name": "OLCF-base (ipykernel)",
   "language": "python",
   "name": "python3"
  },
  "language_info": {
   "codemirror_mode": {
    "name": "ipython",
    "version": 3
   },
   "file_extension": ".py",
   "mimetype": "text/x-python",
   "name": "python",
   "nbconvert_exporter": "python",
   "pygments_lexer": "ipython3",
   "version": "3.8.10"
  }
 },
 "nbformat": 4,
 "nbformat_minor": 5
}
